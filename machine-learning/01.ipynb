{
 "cells": [
  {
   "cell_type": "code",
   "execution_count": null,
   "id": "23baddf7",
   "metadata": {},
   "outputs": [],
   "source": [
    "# 데이터 전처리\n",
    "    # 결측치 : 제거하거나 대처(평균, 중위수, 주변데이터를 이용.. 다양한 알고리즘)\n",
    "    # 클래스 불균형 : over, under sampling  SMOTE, SMOTEEN\n",
    "# 데이터 특성공학 : 연속형->범주형, 시간정보는 1-2 23 0\n",
    "    # 범주형을 숫자  숫자사이에 연관성이 있으면 이것도 학습\n",
    "    # 연관성이 전혀 없는 범주형 라벨링 - onehot\n",
    "    # 범주형이지만 순서나 크기가 있는 범주형은 라벨링 그대로 유지\n",
    "\n",
    "# 머신러닝\n",
    "# 지도학습\n",
    "    # 회귀\n",
    "        # linearRegression\n",
    "    # 분류\n",
    "        # SVM, Kneighbors, DecisionTree\n",
    "# 비지도 학습\n",
    "    # 클러스터\n",
    "        # kmeans dbscan"
   ]
  },
  {
   "cell_type": "code",
   "execution_count": null,
   "id": "a88cd9f2",
   "metadata": {},
   "outputs": [],
   "source": [
    "from sklearn.pipeline import Pipeline\n",
    "from sklearn.preprocessing import StandardScaler\n",
    "from sklearn.decomposition import PCA\n",
    "from sklearn.linear_model import LogisticRegression # 각 클래스에 대한 확률 값을 제공해줌 - 분류모델\n",
    "scaler = StandardScaler()\n",
    "pipe =  Pipeline(\n",
    ")"
   ]
  }
 ],
 "metadata": {
  "kernelspec": {
   "display_name": ".venv",
   "language": "python",
   "name": "python3"
  },
  "language_info": {
   "codemirror_mode": {
    "name": "ipython",
    "version": 3
   },
   "file_extension": ".py",
   "mimetype": "text/x-python",
   "name": "python",
   "nbconvert_exporter": "python",
   "pygments_lexer": "ipython3",
   "version": "3.13.7"
  }
 },
 "nbformat": 4,
 "nbformat_minor": 5
}
