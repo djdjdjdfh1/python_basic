{
 "cells": [
  {
   "cell_type": "markdown",
   "id": "f52a1447",
   "metadata": {},
   "source": [
    "#### 감성분석 -> 머신러닝\n",
    "- 데이터셋 : 전처리\n",
    "- BoW 모델\n",
    "    - 단어를 특성 벡터로 변환\n",
    "    - tf-idf 단어 적합성 평가\n",
    "    - 텍스트 데이터 정체\n",
    "    - 문서를 토큰으로 나누기\n",
    "- LogisticRegression"
   ]
  },
  {
   "cell_type": "code",
   "execution_count": null,
   "id": "ff236906",
   "metadata": {},
   "outputs": [],
   "source": [
    "# 데이터 셋\n",
    "# http://ai.stanford.edu/~amaas/data/sentiment/aclImdb_v1.tar.gz"
   ]
  }
 ],
 "metadata": {
  "language_info": {
   "name": "python"
  }
 },
 "nbformat": 4,
 "nbformat_minor": 5
}
