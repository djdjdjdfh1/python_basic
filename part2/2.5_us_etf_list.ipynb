{
 "cells": [
  {
   "cell_type": "code",
   "execution_count": null,
   "metadata": {},
   "outputs": [
    {
     "name": "stdout",
     "output_type": "stream",
     "text": [
      "Requirement already satisfied: beautifulsoup4 in c:\\users\\playdata2\\desktop\\python_src\\.venv\\lib\\site-packages (4.13.5)\n",
      "Requirement already satisfied: requests in c:\\users\\playdata2\\desktop\\python_src\\.venv\\lib\\site-packages (2.32.5)\n",
      "Note: you may need to restart the kernel to use updated packages.\n"
     ]
    },
    {
     "name": "stderr",
     "output_type": "stream",
     "text": [
      "ERROR: Could not find a version that satisfies the requirement re (from versions: none)\n",
      "ERROR: No matching distribution found for re\n"
     ]
    }
   ],
   "source": [
    "%pip install beautifulsoup4 requests re # 서로 의존관계를 파악해서 맞는 버전으로 설치"
   ]
  },
  {
   "cell_type": "code",
   "execution_count": 7,
   "metadata": {
    "executionInfo": {
     "elapsed": 2337,
     "status": "ok",
     "timestamp": 1706180950836,
     "user": {
      "displayName": "Steve",
      "userId": "13015281013241816762"
     },
     "user_tz": -540
    },
    "id": "PSJ0UQVYOkXc",
    "tags": []
   },
   "outputs": [],
   "source": [
    "# 라이브러리 불러오기\n",
    "from bs4 import BeautifulSoup\n",
    "import requests\n",
    "import re\n",
    "import pandas as pd"
   ]
  },
  {
   "cell_type": "code",
   "execution_count": 11,
   "metadata": {
    "tags": []
   },
   "outputs": [
    {
     "name": "stdout",
     "output_type": "stream",
     "text": [
      "resp:  <Response [403]>\n",
      "====================================================================================================\n",
      "resp.text:  Please set a user-agent and respect our robot policy https://w.wiki/4wJS. See also T400119.\n",
      "\n",
      "====================================================================================================\n",
      "soup:  <html><body><p>Please set a user-agent and respect our robot policy https://w.wiki/4wJS. See also T400119.\n",
      "</p></body></html>\n",
      "====================================================================================================\n",
      "rows:  []\n"
     ]
    }
   ],
   "source": [
    "# 위키피디아 미국 ETF 웹 페이지에서 필요한 정보를 스크래핑하여 딕셔너리 형태로 변수 etfs에 저장\n",
    "# 크롤링 정책중에 User-Agent Policy. 가 있으면 header 정보를 추가하면 가능\n",
    "# 크롤링 가능여부는 \n",
    "url = \"https://en.wikipedia.org/wiki/List_of_American_exchange-traded_funds\"\n",
    "headers = {\n",
    "    \"User-Agent\": \"CoolBot/0.0 (https://example.org/coolbot/; coolbot@example.org) generic-library/0.0\"\n",
    "}\n",
    "resp = requests.get(url, headers)\n",
    "soup = BeautifulSoup(resp.text, 'lxml')   \n",
    "rows = soup.select('div > ul > li')\n",
    "\n",
    "print(\"resp: \", resp)\n",
    "print(\"=\" * 100)\n",
    "print(\"resp.text: \", resp.text)\n",
    "print(\"=\" * 100)\n",
    "print(\"soup: \", soup)\n",
    "print(\"=\" * 100)\n",
    "print(\"rows: \", rows[50:55])"
   ]
  },
  {
   "cell_type": "code",
   "execution_count": 14,
   "metadata": {},
   "outputs": [
    {
     "data": {
      "text/plain": [
       "True"
      ]
     },
     "execution_count": 14,
     "metadata": {},
     "output_type": "execute_result"
    }
   ],
   "source": [
    "import urllib.robotparser\n",
    "rp = urllib.robotparser.RobotFileParser()\n",
    "# rp.set_url(\"https://www.naver.com/robots.txt\")\n",
    "rp.set_url(\"https://www.hollys.co.kr/robots.txt\")\n",
    "rp.read()\n",
    "# url = 'https://www.naver.com'\n",
    "url = 'https://www.hollys.co.kr/korea/foorStore2.do.'\n",
    "rp.can_fetch(\"*\", url)"
   ]
  },
  {
   "cell_type": "code",
   "execution_count": 3,
   "metadata": {
    "tags": []
   },
   "outputs": [
    {
     "name": "stdout",
     "output_type": "stream",
     "text": [
      "{'ITOT': ['NYSE\\xa0Arca', 'iShares Core S&P Total US Stock Mkt'], 'ACWI': ['Nasdaq', 'iShares MSCI ACWI Index'], 'IWV': ['NYSE\\xa0Arca', 'iShares Russell 3000 Index'], 'SCHB': ['NYSE\\xa0Arca', 'Schwab US Broad Market ETF'], 'FNDB': ['NYSE\\xa0Arca', 'Schwab Fundamental U.S. Broad Market Index ETF'], 'VT': ['NYSE\\xa0Arca', 'Vanguard Total World Stock'], 'VTI': ['NYSE\\xa0Arca', 'Vanguard Total Stock Market'], 'VXUS': ['NYSE\\xa0Arca', 'Vanguard Total International Stock'], 'VTHR': ['NYSE\\xa0Arca', 'Vanguard Russell 3000']}\n"
     ]
    }
   ],
   "source": [
    "etfs = {}\n",
    "for row in rows:\n",
    "    \n",
    "    try:\n",
    "        etf_name = re.findall(\"(.+?)\\s\\(\", row.text)\n",
    "        etf_market = re.findall(\"\\((.+?):\", row.text)\n",
    "        etf_ticker = re.findall(\":\\s(.+)\\)\", row.text)\n",
    "        \n",
    "        if (len(etf_ticker) > 0) & (len(etf_market) > 0) & (len(etf_name) > 0):\n",
    "            etfs[etf_ticker[0]] = [etf_market[0], etf_name[0]]\n",
    "\n",
    "    except AttributeError as err:\n",
    "        pass    \n",
    "\n",
    "# etfs 딕셔너리 출력\n",
    "print(etfs)"
   ]
  },
  {
   "cell_type": "code",
   "execution_count": 4,
   "metadata": {
    "tags": []
   },
   "outputs": [
    {
     "data": {
      "text/html": [
       "<div>\n",
       "<style scoped>\n",
       "    .dataframe tbody tr th:only-of-type {\n",
       "        vertical-align: middle;\n",
       "    }\n",
       "\n",
       "    .dataframe tbody tr th {\n",
       "        vertical-align: top;\n",
       "    }\n",
       "\n",
       "    .dataframe thead th {\n",
       "        text-align: right;\n",
       "    }\n",
       "</style>\n",
       "<table border=\"1\" class=\"dataframe\">\n",
       "  <thead>\n",
       "    <tr style=\"text-align: right;\">\n",
       "      <th></th>\n",
       "      <th>ITOT</th>\n",
       "      <th>ACWI</th>\n",
       "      <th>IWV</th>\n",
       "      <th>SCHB</th>\n",
       "      <th>FNDB</th>\n",
       "      <th>VT</th>\n",
       "      <th>VTI</th>\n",
       "      <th>VXUS</th>\n",
       "      <th>VTHR</th>\n",
       "    </tr>\n",
       "  </thead>\n",
       "  <tbody>\n",
       "    <tr>\n",
       "      <th>0</th>\n",
       "      <td>NYSE Arca</td>\n",
       "      <td>Nasdaq</td>\n",
       "      <td>NYSE Arca</td>\n",
       "      <td>NYSE Arca</td>\n",
       "      <td>NYSE Arca</td>\n",
       "      <td>NYSE Arca</td>\n",
       "      <td>NYSE Arca</td>\n",
       "      <td>NYSE Arca</td>\n",
       "      <td>NYSE Arca</td>\n",
       "    </tr>\n",
       "    <tr>\n",
       "      <th>1</th>\n",
       "      <td>iShares Core S&amp;P Total US Stock Mkt</td>\n",
       "      <td>iShares MSCI ACWI Index</td>\n",
       "      <td>iShares Russell 3000 Index</td>\n",
       "      <td>Schwab US Broad Market ETF</td>\n",
       "      <td>Schwab Fundamental U.S. Broad Market Index ETF</td>\n",
       "      <td>Vanguard Total World Stock</td>\n",
       "      <td>Vanguard Total Stock Market</td>\n",
       "      <td>Vanguard Total International Stock</td>\n",
       "      <td>Vanguard Russell 3000</td>\n",
       "    </tr>\n",
       "  </tbody>\n",
       "</table>\n",
       "</div>"
      ],
      "text/plain": [
       "                                  ITOT                     ACWI  \\\n",
       "0                            NYSE Arca                   Nasdaq   \n",
       "1  iShares Core S&P Total US Stock Mkt  iShares MSCI ACWI Index   \n",
       "\n",
       "                          IWV                        SCHB  \\\n",
       "0                   NYSE Arca                   NYSE Arca   \n",
       "1  iShares Russell 3000 Index  Schwab US Broad Market ETF   \n",
       "\n",
       "                                             FNDB                          VT  \\\n",
       "0                                       NYSE Arca                   NYSE Arca   \n",
       "1  Schwab Fundamental U.S. Broad Market Index ETF  Vanguard Total World Stock   \n",
       "\n",
       "                           VTI                                VXUS  \\\n",
       "0                    NYSE Arca                           NYSE Arca   \n",
       "1  Vanguard Total Stock Market  Vanguard Total International Stock   \n",
       "\n",
       "                    VTHR  \n",
       "0              NYSE Arca  \n",
       "1  Vanguard Russell 3000  "
      ]
     },
     "execution_count": 4,
     "metadata": {},
     "output_type": "execute_result"
    }
   ],
   "source": [
    "# etfs 딕셔너리를 데이터프레임으로 변환\n",
    "df = pd.DataFrame(etfs)\n",
    "df"
   ]
  }
 ],
 "metadata": {
  "colab": {
   "authorship_tag": "ABX9TyMmPDgPDlEQ9VJpxhthoipr",
   "provenance": []
  },
  "kernelspec": {
   "display_name": ".venv",
   "language": "python",
   "name": "python3"
  },
  "language_info": {
   "codemirror_mode": {
    "name": "ipython",
    "version": 3
   },
   "file_extension": ".py",
   "mimetype": "text/x-python",
   "name": "python",
   "nbconvert_exporter": "python",
   "pygments_lexer": "ipython3",
   "version": "3.13.7"
  }
 },
 "nbformat": 4,
 "nbformat_minor": 4
}
